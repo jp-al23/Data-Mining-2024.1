{
 "cells": [
  {
   "cell_type": "markdown",
   "id": "937fcb3f-c1eb-435e-ae2b-25c642616d6c",
   "metadata": {},
   "source": [
    "# Inicialização"
   ]
  },
  {
   "cell_type": "code",
   "execution_count": 1,
   "id": "b45f780a-6acb-4504-aeff-9291d2de3660",
   "metadata": {},
   "outputs": [],
   "source": [
    "import psycopg2\n",
    "import pandas as pd\n",
    "import duckdb\n",
    "import matplotlib.pyplot as plt\n",
    "import math\n",
    "import statsmodels.api as sm\n",
    "import seaborn as sns\n",
    "import numpy as np\n",
    "import scipy\n",
    "\n",
    "from imblearn.under_sampling import RandomUnderSampler\n",
    "import imblearn.pipeline\n",
    "\n",
    "#import warnings\n",
    "#warnings.filterwarnings(\"ignore\")"
   ]
  },
  {
   "cell_type": "code",
   "execution_count": 2,
   "id": "100b75cc-53ef-4c1f-9c26-dd7a2d7ce116",
   "metadata": {},
   "outputs": [
    {
     "name": "stderr",
     "output_type": "stream",
     "text": [
      "C:\\Users\\Pichau\\AppData\\Local\\Temp\\ipykernel_16264\\3275608030.py:8: UserWarning: pandas only supports SQLAlchemy connectable (engine/connection) or database string URI or sqlite3 DBAPI2 connection. Other DBAPI2 objects are not tested. Please consider using SQLAlchemy.\n",
      "  raw_data = pd.read_sql('SELECT * FROM tb_whatsapp_messages', con=conn)\n"
     ]
    },
    {
     "name": "stdout",
     "output_type": "stream",
     "text": [
      "<class 'pandas.core.frame.DataFrame'>\n",
      "RangeIndex: 407957 entries, 0 to 407956\n",
      "Data columns (total 24 columns):\n",
      " #   Column                  Non-Null Count   Dtype         \n",
      "---  ------                  --------------   -----         \n",
      " 0   id                      407957 non-null  int64         \n",
      " 1   date_message            407957 non-null  datetime64[ns]\n",
      " 2   id_member_anonymous     407957 non-null  object        \n",
      " 3   ddi                     407957 non-null  object        \n",
      " 4   ddd                     406311 non-null  object        \n",
      " 5   country                 407866 non-null  object        \n",
      " 6   country_iso3            407866 non-null  object        \n",
      " 7   state                   406311 non-null  object        \n",
      " 8   id_group_anonymous      407957 non-null  object        \n",
      " 9   media                   185568 non-null  object        \n",
      " 10  media_type              187528 non-null  object        \n",
      " 11  media_url               132949 non-null  object        \n",
      " 12  has_media               407957 non-null  bool          \n",
      " 13  has_media_url           407957 non-null  bool          \n",
      " 14  trava_zap               407957 non-null  bool          \n",
      " 15  text_content_anonymous  269473 non-null  object        \n",
      " 16  latitude                407866 non-null  object        \n",
      " 17  longitude               407866 non-null  object        \n",
      " 18  date_system             407957 non-null  datetime64[ns]\n",
      " 19  score_sentiment         269519 non-null  float64       \n",
      " 20  score_misinformation    57501 non-null   float64       \n",
      " 21  messenger               407957 non-null  object        \n",
      " 22  media_name              723 non-null     object        \n",
      " 23  media_md5               185568 non-null  object        \n",
      "dtypes: bool(3), datetime64[ns](2), float64(2), int64(1), object(16)\n",
      "memory usage: 66.5+ MB\n"
     ]
    }
   ],
   "source": [
    "dict_connect = {\n",
    "    \"dbname\" : \"lista4\",\n",
    "    \"user\" : \"postgres\",\n",
    "    \"password\": \"123321\",\n",
    "    \"host\": \"localhost\"\n",
    "}\n",
    "conn = psycopg2.connect(**dict_connect)\n",
    "raw_data = pd.read_sql('SELECT * FROM tb_whatsapp_messages', con=conn)\n",
    "raw_data.info()"
   ]
  },
  {
   "cell_type": "markdown",
   "id": "0794dc92-331d-46cf-b687-2d57aaf72016",
   "metadata": {},
   "source": [
    "# Embedding"
   ]
  },
  {
   "cell_type": "code",
   "execution_count": 3,
   "id": "6f156ff9-d462-4a2c-b0eb-7c16619384ba",
   "metadata": {},
   "outputs": [],
   "source": [
    "from sklearn.feature_extraction.text import CountVectorizer, TfidfVectorizer\n",
    "from gensim.models import Word2Vec\n",
    "from sklearn.pipeline import Pipeline\n",
    "from sklearn.preprocessing import StandardScaler\n",
    "from sklearn.compose import ColumnTransformer\n",
    "from sklearn.preprocessing import FunctionTransformer\n",
    "from sklearn.base import BaseEstimator, TransformerMixin\n",
    "\n",
    "\n",
    "def text_to_vector(text, model):\n",
    "    words = text.split()\n",
    "    words = [word for word in words if word in model.wv]\n",
    "    \n",
    "    if len(words) == 0:\n",
    "        return np.zeros(model.vector_size)\n",
    "\n",
    "    word_vectors = np.array([model.wv[word] for word in words])\n",
    "    return np.mean(word_vectors, axis=0)\n",
    "\n",
    "\n",
    "class Embedding(BaseEstimator, TransformerMixin):\n",
    "    def __init__(self, tipo_embedding = \"BOW\", n_grams = 1):\n",
    "        self.tipo_embedding = tipo_embedding\n",
    "        self.n_grams = n_grams\n",
    "        self.QNT_FEATURES = 500\n",
    "\n",
    "    def fit(self, X, y=None):\n",
    "\n",
    "        if self.tipo_embedding == \"BOW\":\n",
    "            self.vetorizador = CountVectorizer(max_features = self.QNT_FEATURES, ngram_range = (1,self.n_grams))\n",
    "            self.vetorizador.fit(X)\n",
    "\n",
    "        elif self.tipo_embedding == \"TF-IDF\":\n",
    "            self.vetorizador = TfidfVectorizer(max_features = self.QNT_FEATURES, ngram_range = (1,self.n_grams))\n",
    "            self.vetorizador.fit(X)\n",
    "\n",
    "        elif self.tipo_embedding == \"WORD2VEC\":\n",
    "            w2v_modelo = Word2Vec(\n",
    "                sg = 0, # cbow\n",
    "                window = self.n_grams * 2,\n",
    "                vector_size  = self.QNT_FEATURES,\n",
    "                min_count = 3,\n",
    "                alpha = 0.03,\n",
    "                min_alpha = 0.007\n",
    "            )\n",
    "\n",
    "            textos = X\n",
    "            lista_lista_tokens = [texto.split() for texto in textos]\n",
    "            w2v_modelo.build_vocab(lista_lista_tokens, progress_per = 5000)\n",
    "\n",
    "            w2v_modelo.train(lista_lista_tokens,\n",
    "                 total_examples = w2v_modelo.corpus_count,\n",
    "                 epochs = 400,\n",
    "            )\n",
    "\n",
    "            self.w2v_modelo = w2v_modelo\n",
    "\n",
    "        else:\n",
    "            raise Exception(\"Este embedding não está implementado ou não existe\")\n",
    "        \n",
    "        return self\n",
    "\n",
    "    def transform(self, X):\n",
    "        if not isinstance(X, pd.DataFrame):\n",
    "            X = pd.DataFrame(X)\n",
    "\n",
    "        if self.tipo_embedding == \"BOW\":\n",
    "            bag_of_words = self.vetorizador.transform(X.iloc[:,0])\n",
    "            bow = pd.DataFrame.sparse.from_spmatrix(bag_of_words, columns=self.vetorizador.get_feature_names_out())\n",
    "            bow.index = X.index\n",
    "            X = pd.concat([X, bow], axis = 1)\n",
    "    \n",
    "        elif self.tipo_embedding == \"TF-IDF\":\n",
    "            tf_idf = self.vetorizador.transform(X.iloc[:,0])\n",
    "            tfidf = pd.DataFrame.sparse.from_spmatrix(tf_idf, columns=self.vetorizador.get_feature_names_out())\n",
    "            tfidf.index = X.index\n",
    "            X = pd.concat([X, tfidf], axis = 1)\n",
    "    \n",
    "        elif self.tipo_embedding == \"WORD2VEC\":\n",
    "            textos = X.iloc[:,0]\n",
    "            matriz = np.array([text_to_vector(texto, self.w2v_modelo) for texto in textos])\n",
    "            word2vec = pd.DataFrame(data = matriz, index = X.index, columns = [\"w2v_\" + str(i) for i in range(1,self.QNT_FEATURES+1)])\n",
    "            X = pd.concat([X, word2vec], axis = 1)\n",
    "            \n",
    "        \n",
    "        else:\n",
    "            raise Exception(\"Este embedding não está implementado ou não existe\")\n",
    "\n",
    "        X = X.drop(X.columns[[0,1]], axis=1)\n",
    "        return X\n"
   ]
  },
  {
   "cell_type": "code",
   "execution_count": 4,
   "id": "9d7f6a7c-b2cb-4477-bbec-1179a9ac07ad",
   "metadata": {},
   "outputs": [],
   "source": [
    "textos = raw_data[\"text_content_anonymous\"]\n",
    "textos.dropna(inplace = True)\n",
    "textos = textos[(textos != 'None') & (textos != \"\")]\n",
    "textos = textos[ textos.apply(lambda x: len(x.split()) > 10)]\n",
    "textos = textos.sample(50000, random_state = 23)"
   ]
  },
  {
   "cell_type": "code",
   "execution_count": 5,
   "id": "aaf0c380-67c0-4849-b6bb-bbbb11f7cda1",
   "metadata": {},
   "outputs": [],
   "source": [
    "import nltk\n",
    "from nltk.corpus import stopwords\n",
    "import re\n",
    "from urllib.parse import urlparse\n",
    "import spacy\n",
    "\n",
    "RENOMEAR = {\n",
    "    \"combr\" : \"\",\n",
    "    \"com\" : \"\",\n",
    "    \"https\": \"\",\n",
    "    \"www\": \"\"\n",
    "    \n",
    "}\n",
    "\n",
    "STOP_WORDS = list(stopwords.words('portuguese'))\n",
    "\n",
    "\n",
    "def extract_root_domain(text):\n",
    "    url_pattern = r'(https?://[^\\s]+)'\n",
    "    \n",
    "    def get_root_domain(url):\n",
    "        try:\n",
    "            parsed_url = urlparse(url)\n",
    "            domain_parts = parsed_url.netloc.split('.')\n",
    "            \n",
    "            if len(domain_parts) >= 2:\n",
    "                root_domain = '.'.join(domain_parts[-2:])\n",
    "            else:\n",
    "                root_domain = parsed_url.netloc\n",
    "            \n",
    "            return root_domain.capitalize()\n",
    "        except ValueError:\n",
    "            return ''\n",
    "    \n",
    "    return re.sub(url_pattern, lambda match: get_root_domain(match.group(0)), text)\n",
    "    \n",
    "def preprocessamento_regras_assoc(texto):\n",
    "\n",
    "    texto_filtrado = texto.replace(\"*\", \"\").replace(\"\\n\", \" \")\n",
    "    \n",
    "    texto_filtrado = extract_root_domain(texto_filtrado)\n",
    "\n",
    "    texto_filtrado = re.sub(r'[^\\w\\s]', '', texto_filtrado)\n",
    "\n",
    "    texto_filtrado = ' '.join([token.text for token in nlp(texto_filtrado) if token.pos_ == \"PROPN\" or token.pos_ == \"VERB\"]).lower()\n",
    "\n",
    "    for k, v in RENOMEAR.items():\n",
    "        texto_filtrado = texto_filtrado.replace(k, v)\n",
    "\n",
    "    texto_filtrado = \" \".join( palavra for palavra in texto_filtrado.split() if palavra not in STOP_WORDS )\n",
    "\n",
    "    return texto_filtrado\n",
    "\n",
    "RENOMEAR = {\n",
    "    \"combr\" : \"\",\n",
    "    \"com\" : \"\",\n",
    "    \"https\": \"\",\n",
    "    \"www\": \"\"\n",
    "}\n",
    "nlp = spacy.load('pt_core_news_sm')\n",
    "textos_processados = textos.apply(preprocessamento_regras_assoc)\n",
    "textos_processados.dropna(inplace = True)\n",
    "textos_processados = textos_processados[textos_processados != \"\"]"
   ]
  },
  {
   "cell_type": "code",
   "execution_count": 6,
   "id": "d7b9ff88-2e43-42cd-9aea-254e54ab9d66",
   "metadata": {},
   "outputs": [
    {
     "data": {
      "text/plain": [
       "10655                           programa hora união youtube\n",
       "174768             bastidores metrô sabesp paulo vergonhoso\n",
       "327418            israelenses fogem assista pensandodireita\n",
       "40598                                  r aplicadas amazonas\n",
       "281361    pe produz lançado raquel lyra investir blog al...\n",
       "                                ...                        \n",
       "19375     flávio dino bate pf mostra ministério justiça ...\n",
       "51822                              armam emboscada salvador\n",
       "90940     possuem válidos correios celular navegar whats...\n",
       "344348                                  ver política brasil\n",
       "407498                 passa morre taylor swift rio janeiro\n",
       "Name: text_content_anonymous, Length: 49817, dtype: object"
      ]
     },
     "execution_count": 6,
     "metadata": {},
     "output_type": "execute_result"
    }
   ],
   "source": [
    "textos_processados"
   ]
  },
  {
   "cell_type": "code",
   "execution_count": 7,
   "id": "61b1cd34-2d90-408f-b9c3-c4403ed2669b",
   "metadata": {},
   "outputs": [],
   "source": [
    "embedding_word2vec = Embedding(tipo_embedding = \"WORD2VEC\")\n",
    "X_word2vec = embedding_word2vec.fit_transform(textos_processados)\n",
    "\n",
    "embedding_tfidf = Embedding(tipo_embedding = \"TF-IDF\")\n",
    "X_tfidf = embedding_tfidf.fit_transform(textos_processados)\n",
    "\n",
    "embedding_bow = Embedding(tipo_embedding = \"BOW\")\n",
    "X_bow = embedding_bow.fit_transform(textos_processados)\n",
    "\n"
   ]
  },
  {
   "cell_type": "code",
   "execution_count": 8,
   "id": "7199011f-b605-4c2f-b626-3df185a4cfe1",
   "metadata": {},
   "outputs": [],
   "source": [
    "X_escolhido = X_tfidf"
   ]
  },
  {
   "cell_type": "markdown",
   "id": "2d893e4a-24fe-4fb9-9481-58fa3fd2e10e",
   "metadata": {},
   "source": [
    "# LDA"
   ]
  },
  {
   "cell_type": "code",
   "execution_count": 9,
   "id": "65636aa6-4987-46e1-8480-70c06bd5014e",
   "metadata": {},
   "outputs": [
    {
     "name": "stdout",
     "output_type": "stream",
     "text": [
      "Top 10 palavras no tópico #0:\n",
      "['tme', 'abrir', 'conseguir', 'gaza', 'pode', 'pt', 'canal', 'hamas', 'israel', 'whatsapp']\n",
      "Top 10 palavras no tópico #1:\n",
      "['senhor', 'entenda', 'oantagonismo', 'ter', 'pode', 'ver', 'partilhe', 'fazer', 'revistaonlinenews', 'deus']\n",
      "Top 10 palavras no tópico #2:\n",
      "['news', 'user', 'facebook', 'ceará', 'saiba', 'vídeo', 'instagram', 'youtube', 'veja', 'terrabrasilnoticias']\n",
      "Top 10 palavras no tópico #3:\n",
      "['diz', 'portalcidadenews', 'faz', 'governo', 'stf', 'bolsonaro', 'lula', 'pensandodireita', 'assista', 'brasil']\n"
     ]
    }
   ],
   "source": [
    "from sklearn.decomposition import LatentDirichletAllocation\n",
    "\n",
    "lda = LatentDirichletAllocation(n_components=4, random_state=0)\n",
    "lda.fit(X_escolhido)\n",
    "\n",
    "for index, topic in enumerate(lda.components_):\n",
    "    print(f\"Top 10 palavras no tópico #{index}:\")\n",
    "    print([X_escolhido.columns[i] for i in topic.argsort()[-10:]])"
   ]
  },
  {
   "cell_type": "markdown",
   "id": "58719221-27f4-4606-86d7-8cc5120d47c9",
   "metadata": {},
   "source": [
    "# GSDMM "
   ]
  },
  {
   "cell_type": "code",
   "execution_count": 10,
   "id": "07e81d00-1fdb-4375-b93b-0ead72b919e0",
   "metadata": {},
   "outputs": [
    {
     "name": "stdout",
     "output_type": "stream",
     "text": [
      "In stage 0: transferred 30605 clusters with 3 clusters populated\n",
      "In stage 1: transferred 18401 clusters with 3 clusters populated\n",
      "In stage 2: transferred 10469 clusters with 3 clusters populated\n",
      "In stage 3: transferred 7163 clusters with 3 clusters populated\n",
      "In stage 4: transferred 5579 clusters with 3 clusters populated\n",
      "In stage 5: transferred 5023 clusters with 3 clusters populated\n",
      "In stage 6: transferred 4644 clusters with 3 clusters populated\n",
      "In stage 7: transferred 4420 clusters with 3 clusters populated\n",
      "In stage 8: transferred 4397 clusters with 3 clusters populated\n",
      "In stage 9: transferred 4314 clusters with 3 clusters populated\n",
      "In stage 10: transferred 4329 clusters with 3 clusters populated\n",
      "In stage 11: transferred 4251 clusters with 3 clusters populated\n",
      "In stage 12: transferred 4190 clusters with 3 clusters populated\n",
      "In stage 13: transferred 4124 clusters with 3 clusters populated\n",
      "In stage 14: transferred 4115 clusters with 3 clusters populated\n",
      "In stage 15: transferred 4088 clusters with 3 clusters populated\n",
      "In stage 16: transferred 3994 clusters with 3 clusters populated\n",
      "In stage 17: transferred 3945 clusters with 3 clusters populated\n",
      "In stage 18: transferred 4003 clusters with 3 clusters populated\n",
      "In stage 19: transferred 3947 clusters with 3 clusters populated\n",
      "In stage 20: transferred 3907 clusters with 3 clusters populated\n",
      "In stage 21: transferred 4006 clusters with 3 clusters populated\n",
      "In stage 22: transferred 3928 clusters with 3 clusters populated\n",
      "In stage 23: transferred 3970 clusters with 3 clusters populated\n",
      "In stage 24: transferred 4052 clusters with 3 clusters populated\n",
      "In stage 25: transferred 4010 clusters with 3 clusters populated\n",
      "In stage 26: transferred 4024 clusters with 3 clusters populated\n",
      "In stage 27: transferred 3997 clusters with 3 clusters populated\n",
      "In stage 28: transferred 3890 clusters with 3 clusters populated\n",
      "In stage 29: transferred 3948 clusters with 3 clusters populated\n",
      "Tópico 0: [('whatsapp', 6697), ('brasil', 6017), ('assista', 5005), ('pensandodireita', 4851), ('lula', 4136), ('terrabrasilnoticias', 3936), ('israel', 2663), ('bolsonaro', 2243), ('canal', 1933), ('hamas', 1816)]\n",
      "Tópico 1: [('brasil', 2430), ('veja', 1904), ('youtube', 1826), ('instagram', 1784), ('lula', 1468), ('fazer', 1150), ('pode', 1121), ('r', 972), ('deus', 886), ('partilhe', 871)]\n",
      "Tópico 2: [('user', 26685), ('inelegível', 4406), ('deus', 2797), ('brasil', 1740), ('senhor', 1244), ('bolsonaro', 1205), ('facebook', 1101), ('jesus', 1066), ('r', 919), ('pode', 844)]\n"
     ]
    }
   ],
   "source": [
    "from gsdmm import MovieGroupProcess\n",
    "\n",
    "corpus_tokens = [doc.split() for doc in textos_processados]\n",
    "vocab = X_escolhido.columns\n",
    "\n",
    "mgp = MovieGroupProcess(K=3, alpha=0.1, beta=0.1, n_iters=30)\n",
    "y = mgp.fit(corpus_tokens, len(vocab))\n",
    "\n",
    "for topic_num, topic in enumerate(mgp.cluster_word_distribution):\n",
    "    sorted_topic = sorted(topic.items(), key=lambda k: k[1], reverse=True)\n",
    "    print(f\"Tópico {topic_num}: {sorted_topic[:10]}\")"
   ]
  },
  {
   "cell_type": "markdown",
   "id": "1c9d3eb9-df7a-4781-8f98-de0ced107fd6",
   "metadata": {},
   "source": [
    "# PTM "
   ]
  },
  {
   "cell_type": "code",
   "execution_count": 11,
   "id": "641b3727-4f12-4325-9e86-12a3c01b0e33",
   "metadata": {},
   "outputs": [
    {
     "name": "stdout",
     "output_type": "stream",
     "text": [
      "Tópico 0: 0.270*\"user\" + 0.010*\"facebook\" + 0.006*\"ceará\" + 0.005*\"clicar\" + 0.004*\"bolsonaro\" + 0.003*\"entenderam\" + 0.003*\"paulo\" + 0.003*\"luiz\" + 0.002*\"josé\" + 0.002*\"pt\"\n",
      "Tópico 1: 0.029*\"brasil\" + 0.028*\"whatsapp\" + 0.022*\"lula\" + 0.018*\"assista\" + 0.018*\"inelegível\" + 0.017*\"pensandodireita\" + 0.016*\"terrabrasilnoticias\" + 0.013*\"veja\" + 0.012*\"israel\" + 0.009*\"bolsonaro\"\n",
      "Tópico 2: 0.013*\"deus\" + 0.010*\"youtube\" + 0.009*\"instagram\" + 0.008*\"brasil\" + 0.007*\"fazer\" + 0.006*\"pode\" + 0.005*\"senhor\" + 0.005*\"jesus\" + 0.004*\"ver\" + 0.003*\"bolsonaro\"\n"
     ]
    }
   ],
   "source": [
    "import gensim\n",
    "from gensim import corpora\n",
    "\n",
    "corpus_tokens = [doc.lower().split() for doc in textos_processados]\n",
    "dictionary = corpora.Dictionary(corpus_tokens)\n",
    "corpus_bow = [dictionary.doc2bow(doc) for doc in corpus_tokens]\n",
    "\n",
    "lda_model = gensim.models.LdaModel(corpus_bow, num_topics=3, id2word=dictionary, passes=25)\n",
    "\n",
    "for idx, topic in lda_model.print_topics(-1):\n",
    "    print(f\"Tópico {idx}: {topic}\")"
   ]
  },
  {
   "cell_type": "markdown",
   "id": "82d81ac6-71bf-4ace-baee-db9a3462bfcd",
   "metadata": {},
   "source": [
    "# BERTopic"
   ]
  },
  {
   "cell_type": "code",
   "execution_count": 14,
   "id": "96476cfa-d613-4b15-922b-6b208f67c6f0",
   "metadata": {},
   "outputs": [
    {
     "name": "stdout",
     "output_type": "stream",
     "text": [
      "    Topic  Count                                         Name  \\\n",
      "0      -1  16565       -1_user_pensandodireita_assista_brasil   \n",
      "1       0  13353             0_inelegível_lula_bolsonaro_pode   \n",
      "2       1   3174    1_brasil_brazil_brazilnewsinforma_informa   \n",
      "3       2   3075             2_whatsapp_canal_resolverá_abrir   \n",
      "4       3   2060                3_israel_hamas_gaza_palestina   \n",
      "5       4   1967       4_terrabrasilnoticias_entenda_veja_diz   \n",
      "6       5   1785  5_portalcidadenews_portal_rondônia_repórter   \n",
      "7       6   1748                   6_deus_senhor_jesus_cristo   \n",
      "8       7   1379                 7_youtube_180_ligue_consulte   \n",
      "9       8    956           8_brasil_bolsonaro_entenderam_lula   \n",
      "10      9    896              9_instagram_siga_clique_mossoró   \n",
      "11     10    678    10_revistaonlinenews_fazer_pode_emagrecer   \n",
      "12     11    655                 11_vídeo_rio_partilhe_grande   \n",
      "13     12    651      12_vídeo_terrabrasilnoticias_veja_hamas   \n",
      "14     13    500             13_polícia_civil_militar_federal   \n",
      "15     14    375      14_terrabrasilnoticias_lula_governo_diz   \n",
      "\n",
      "                                       Representation  \\\n",
      "0   [user, pensandodireita, assista, brasil, lula,...   \n",
      "1   [inelegível, lula, bolsonaro, pode, veja, vc, ...   \n",
      "2   [brasil, brazil, brazilnewsinforma, informa, n...   \n",
      "3   [whatsapp, canal, resolverá, abrir, conseguir,...   \n",
      "4   [israel, hamas, gaza, palestina, terrabrasilno...   \n",
      "5   [terrabrasilnoticias, entenda, veja, diz, stf,...   \n",
      "6   [portalcidadenews, portal, rondônia, repórter,...   \n",
      "7   [deus, senhor, jesus, cristo, disse, palavra, ...   \n",
      "8   [youtube, 180, ligue, consulte, canal, inscrev...   \n",
      "9   [brasil, bolsonaro, entenderam, lula, cnn, stf...   \n",
      "10  [instagram, siga, clique, mossoró, facebook, v...   \n",
      "11  [revistaonlinenews, fazer, pode, emagrecer, li...   \n",
      "12  [vídeo, rio, partilhe, grande, oantagonismo, v...   \n",
      "13  [vídeo, terrabrasilnoticias, veja, hamas, fort...   \n",
      "14  [polícia, civil, militar, federal, prende, ron...   \n",
      "15  [terrabrasilnoticias, lula, governo, diz, ente...   \n",
      "\n",
      "                                  Representative_Docs  \n",
      "0   [brasil flavio bolsonaro pede indiciamento lul...  \n",
      "1   [lula recebeu hamas partilhe oantagonismo, lul...  \n",
      "2   [afastar brazil news informa saiba brazilnewsi...  \n",
      "3   [vídeo fake boulos paulo folhadestra canal wha...  \n",
      "4   [israel gaza veja vídeo terrabrasilnoticias, h...  \n",
      "5   [terrabrasilnoticias, terrabrasilnoticias, ter...  \n",
      "6   [porto velho acontece portal rondônia, governo...  \n",
      "7              [deus, deus cristo jesus senhor, deus]  \n",
      "8    [favor brasil youtube youtube, youtube, youtube]  \n",
      "9   [prestação conta democracia stf corte bolivari...  \n",
      "10  [siga instagram clique instagram, siga instagr...  \n",
      "11  [revistaonlinenews, revistaonlinenews, revista...  \n",
      "12  [lula vai eua rio grande sul partilhe oantagon...  \n",
      "13  [diz stf veja vídeo terrabrasilnoticias, veja ...  \n",
      "14  [polícia militar apreende monte alegre polícia...  \n",
      "15  [lula diz terrabrasilnoticias, r lula terrabra...  \n",
      "[('inelegível', 0.09597809760699252), ('lula', 0.023930918142988897), ('bolsonaro', 0.01761128948261509), ('pode', 0.014685420317071244), ('veja', 0.014290424138661072), ('vc', 0.014093833770201295), ('governo', 0.013350083338107709), ('fazer', 0.013222876686926384), ('partilhe', 0.01320889752709215), ('ver', 0.012319167723896737)]\n"
     ]
    }
   ],
   "source": [
    "from bertopic import BERTopic\n",
    "\n",
    "topic_model = BERTopic(language = \"brazilian portuguese\", min_topic_size = 350)\n",
    "topics, probabilities = topic_model.fit_transform(textos_processados)\n",
    "\n",
    "print(topic_model.get_topic_info())\n",
    "print(topic_model.get_topic(0)) "
   ]
  },
  {
   "cell_type": "code",
   "execution_count": 15,
   "id": "33090b0f-584f-4108-8c37-639d0336cbec",
   "metadata": {},
   "outputs": [
    {
     "data": {
      "application/vnd.plotly.v1+json": {
       "config": {
        "plotlyServerURL": "https://plot.ly"
       },
       "data": [
        {
         "customdata": [
          [
           0,
           "inelegível | lula | bolsonaro | pode | veja",
           13353
          ],
          [
           1,
           "brasil | brazil | brazilnewsinforma | informa | news",
           3174
          ],
          [
           2,
           "whatsapp | canal | resolverá | abrir | conseguir",
           3075
          ],
          [
           3,
           "israel | hamas | gaza | palestina | terrabrasilnoticias",
           2060
          ],
          [
           4,
           "terrabrasilnoticias | entenda | veja | diz | stf",
           1967
          ],
          [
           5,
           "portalcidadenews | portal | rondônia | repórter | ceará",
           1785
          ],
          [
           6,
           "deus | senhor | jesus | cristo | disse",
           1748
          ],
          [
           7,
           "youtube | 180 | ligue | consulte | canal",
           1379
          ],
          [
           8,
           "brasil | bolsonaro | entenderam | lula | cnn",
           956
          ],
          [
           9,
           "instagram | siga | clique | mossoró | facebook",
           896
          ],
          [
           10,
           "revistaonlinenews | fazer | pode | emagrecer | limpar",
           678
          ],
          [
           11,
           "vídeo | rio | partilhe | grande | oantagonismo",
           655
          ],
          [
           12,
           "vídeo | terrabrasilnoticias | veja | hamas | fortes",
           651
          ],
          [
           13,
           "polícia | civil | militar | federal | prende",
           500
          ],
          [
           14,
           "terrabrasilnoticias | lula | governo | diz | entenda",
           375
          ]
         ],
         "hovertemplate": "<b>Topic %{customdata[0]}</b><br>%{customdata[1]}<br>Size: %{customdata[2]}",
         "legendgroup": "",
         "marker": {
          "color": "#B0BEC5",
          "line": {
           "color": "DarkSlateGrey",
           "width": 2
          },
          "size": [
           13353,
           3174,
           3075,
           2060,
           1967,
           1785,
           1748,
           1379,
           956,
           896,
           678,
           655,
           651,
           500,
           375
          ],
          "sizemode": "area",
          "sizeref": 8.345625,
          "symbol": "circle"
         },
         "mode": "markers",
         "name": "",
         "orientation": "v",
         "showlegend": false,
         "type": "scatter",
         "x": [
          6.7329912185668945,
          6.7708001136779785,
          7.873316764831543,
          6.243895053863525,
          -5.557159900665283,
          7.432164192199707,
          6.435830116271973,
          14.318829536437988,
          6.8664350509643555,
          14.59776782989502,
          7.683706760406494,
          14.114361763000488,
          -5.6639084815979,
          7.211212158203125,
          -5.971813201904297
         ],
         "xaxis": "x",
         "y": [
          -2.0442209243774414,
          8.298853874206543,
          -1.6175222396850586,
          -2.4817187786102295,
          -5.570136547088623,
          -1.9811006784439087,
          -2.2184743881225586,
          -15.020050048828125,
          8.394522666931152,
          -15.298905372619629,
          -2.2316157817840576,
          -14.815530776977539,
          -5.676802158355713,
          -1.614806056022644,
          -5.986027240753174
         ],
         "yaxis": "y"
        }
       ],
       "layout": {
        "annotations": [
         {
          "showarrow": false,
          "text": "D1",
          "x": -6.867585182189941,
          "y": -3.970020055770874,
          "yshift": 10
         },
         {
          "showarrow": false,
          "text": "D2",
          "x": 4.959923911094666,
          "xshift": 10,
          "y": 9.653701066970825
         }
        ],
        "height": 650,
        "hoverlabel": {
         "bgcolor": "white",
         "font": {
          "family": "Rockwell",
          "size": 16
         }
        },
        "legend": {
         "itemsizing": "constant",
         "tracegroupgap": 0
        },
        "margin": {
         "t": 60
        },
        "shapes": [
         {
          "line": {
           "color": "#CFD8DC",
           "width": 2
          },
          "type": "line",
          "x0": 4.959923911094666,
          "x1": 4.959923911094666,
          "y0": -17.593741178512573,
          "y1": 9.653701066970825
         },
         {
          "line": {
           "color": "#9E9E9E",
           "width": 2
          },
          "type": "line",
          "x0": -6.867585182189941,
          "x1": 16.787433004379274,
          "y0": -3.970020055770874,
          "y1": -3.970020055770874
         }
        ],
        "sliders": [
         {
          "active": 0,
          "pad": {
           "t": 50
          },
          "steps": [
           {
            "args": [
             {
              "marker.color": [
               [
                "red",
                "#B0BEC5",
                "#B0BEC5",
                "#B0BEC5",
                "#B0BEC5",
                "#B0BEC5",
                "#B0BEC5",
                "#B0BEC5",
                "#B0BEC5",
                "#B0BEC5",
                "#B0BEC5",
                "#B0BEC5",
                "#B0BEC5",
                "#B0BEC5",
                "#B0BEC5"
               ]
              ]
             }
            ],
            "label": "Topic 0",
            "method": "update"
           },
           {
            "args": [
             {
              "marker.color": [
               [
                "#B0BEC5",
                "red",
                "#B0BEC5",
                "#B0BEC5",
                "#B0BEC5",
                "#B0BEC5",
                "#B0BEC5",
                "#B0BEC5",
                "#B0BEC5",
                "#B0BEC5",
                "#B0BEC5",
                "#B0BEC5",
                "#B0BEC5",
                "#B0BEC5",
                "#B0BEC5"
               ]
              ]
             }
            ],
            "label": "Topic 1",
            "method": "update"
           },
           {
            "args": [
             {
              "marker.color": [
               [
                "#B0BEC5",
                "#B0BEC5",
                "red",
                "#B0BEC5",
                "#B0BEC5",
                "#B0BEC5",
                "#B0BEC5",
                "#B0BEC5",
                "#B0BEC5",
                "#B0BEC5",
                "#B0BEC5",
                "#B0BEC5",
                "#B0BEC5",
                "#B0BEC5",
                "#B0BEC5"
               ]
              ]
             }
            ],
            "label": "Topic 2",
            "method": "update"
           },
           {
            "args": [
             {
              "marker.color": [
               [
                "#B0BEC5",
                "#B0BEC5",
                "#B0BEC5",
                "red",
                "#B0BEC5",
                "#B0BEC5",
                "#B0BEC5",
                "#B0BEC5",
                "#B0BEC5",
                "#B0BEC5",
                "#B0BEC5",
                "#B0BEC5",
                "#B0BEC5",
                "#B0BEC5",
                "#B0BEC5"
               ]
              ]
             }
            ],
            "label": "Topic 3",
            "method": "update"
           },
           {
            "args": [
             {
              "marker.color": [
               [
                "#B0BEC5",
                "#B0BEC5",
                "#B0BEC5",
                "#B0BEC5",
                "red",
                "#B0BEC5",
                "#B0BEC5",
                "#B0BEC5",
                "#B0BEC5",
                "#B0BEC5",
                "#B0BEC5",
                "#B0BEC5",
                "#B0BEC5",
                "#B0BEC5",
                "#B0BEC5"
               ]
              ]
             }
            ],
            "label": "Topic 4",
            "method": "update"
           },
           {
            "args": [
             {
              "marker.color": [
               [
                "#B0BEC5",
                "#B0BEC5",
                "#B0BEC5",
                "#B0BEC5",
                "#B0BEC5",
                "red",
                "#B0BEC5",
                "#B0BEC5",
                "#B0BEC5",
                "#B0BEC5",
                "#B0BEC5",
                "#B0BEC5",
                "#B0BEC5",
                "#B0BEC5",
                "#B0BEC5"
               ]
              ]
             }
            ],
            "label": "Topic 5",
            "method": "update"
           },
           {
            "args": [
             {
              "marker.color": [
               [
                "#B0BEC5",
                "#B0BEC5",
                "#B0BEC5",
                "#B0BEC5",
                "#B0BEC5",
                "#B0BEC5",
                "red",
                "#B0BEC5",
                "#B0BEC5",
                "#B0BEC5",
                "#B0BEC5",
                "#B0BEC5",
                "#B0BEC5",
                "#B0BEC5",
                "#B0BEC5"
               ]
              ]
             }
            ],
            "label": "Topic 6",
            "method": "update"
           },
           {
            "args": [
             {
              "marker.color": [
               [
                "#B0BEC5",
                "#B0BEC5",
                "#B0BEC5",
                "#B0BEC5",
                "#B0BEC5",
                "#B0BEC5",
                "#B0BEC5",
                "red",
                "#B0BEC5",
                "#B0BEC5",
                "#B0BEC5",
                "#B0BEC5",
                "#B0BEC5",
                "#B0BEC5",
                "#B0BEC5"
               ]
              ]
             }
            ],
            "label": "Topic 7",
            "method": "update"
           },
           {
            "args": [
             {
              "marker.color": [
               [
                "#B0BEC5",
                "#B0BEC5",
                "#B0BEC5",
                "#B0BEC5",
                "#B0BEC5",
                "#B0BEC5",
                "#B0BEC5",
                "#B0BEC5",
                "red",
                "#B0BEC5",
                "#B0BEC5",
                "#B0BEC5",
                "#B0BEC5",
                "#B0BEC5",
                "#B0BEC5"
               ]
              ]
             }
            ],
            "label": "Topic 8",
            "method": "update"
           },
           {
            "args": [
             {
              "marker.color": [
               [
                "#B0BEC5",
                "#B0BEC5",
                "#B0BEC5",
                "#B0BEC5",
                "#B0BEC5",
                "#B0BEC5",
                "#B0BEC5",
                "#B0BEC5",
                "#B0BEC5",
                "red",
                "#B0BEC5",
                "#B0BEC5",
                "#B0BEC5",
                "#B0BEC5",
                "#B0BEC5"
               ]
              ]
             }
            ],
            "label": "Topic 9",
            "method": "update"
           },
           {
            "args": [
             {
              "marker.color": [
               [
                "#B0BEC5",
                "#B0BEC5",
                "#B0BEC5",
                "#B0BEC5",
                "#B0BEC5",
                "#B0BEC5",
                "#B0BEC5",
                "#B0BEC5",
                "#B0BEC5",
                "#B0BEC5",
                "red",
                "#B0BEC5",
                "#B0BEC5",
                "#B0BEC5",
                "#B0BEC5"
               ]
              ]
             }
            ],
            "label": "Topic 10",
            "method": "update"
           },
           {
            "args": [
             {
              "marker.color": [
               [
                "#B0BEC5",
                "#B0BEC5",
                "#B0BEC5",
                "#B0BEC5",
                "#B0BEC5",
                "#B0BEC5",
                "#B0BEC5",
                "#B0BEC5",
                "#B0BEC5",
                "#B0BEC5",
                "#B0BEC5",
                "red",
                "#B0BEC5",
                "#B0BEC5",
                "#B0BEC5"
               ]
              ]
             }
            ],
            "label": "Topic 11",
            "method": "update"
           },
           {
            "args": [
             {
              "marker.color": [
               [
                "#B0BEC5",
                "#B0BEC5",
                "#B0BEC5",
                "#B0BEC5",
                "#B0BEC5",
                "#B0BEC5",
                "#B0BEC5",
                "#B0BEC5",
                "#B0BEC5",
                "#B0BEC5",
                "#B0BEC5",
                "#B0BEC5",
                "red",
                "#B0BEC5",
                "#B0BEC5"
               ]
              ]
             }
            ],
            "label": "Topic 12",
            "method": "update"
           },
           {
            "args": [
             {
              "marker.color": [
               [
                "#B0BEC5",
                "#B0BEC5",
                "#B0BEC5",
                "#B0BEC5",
                "#B0BEC5",
                "#B0BEC5",
                "#B0BEC5",
                "#B0BEC5",
                "#B0BEC5",
                "#B0BEC5",
                "#B0BEC5",
                "#B0BEC5",
                "#B0BEC5",
                "red",
                "#B0BEC5"
               ]
              ]
             }
            ],
            "label": "Topic 13",
            "method": "update"
           },
           {
            "args": [
             {
              "marker.color": [
               [
                "#B0BEC5",
                "#B0BEC5",
                "#B0BEC5",
                "#B0BEC5",
                "#B0BEC5",
                "#B0BEC5",
                "#B0BEC5",
                "#B0BEC5",
                "#B0BEC5",
                "#B0BEC5",
                "#B0BEC5",
                "#B0BEC5",
                "#B0BEC5",
                "#B0BEC5",
                "red"
               ]
              ]
             }
            ],
            "label": "Topic 14",
            "method": "update"
           }
          ]
         }
        ],
        "template": {
         "data": {
          "bar": [
           {
            "error_x": {
             "color": "rgb(36,36,36)"
            },
            "error_y": {
             "color": "rgb(36,36,36)"
            },
            "marker": {
             "line": {
              "color": "white",
              "width": 0.5
             },
             "pattern": {
              "fillmode": "overlay",
              "size": 10,
              "solidity": 0.2
             }
            },
            "type": "bar"
           }
          ],
          "barpolar": [
           {
            "marker": {
             "line": {
              "color": "white",
              "width": 0.5
             },
             "pattern": {
              "fillmode": "overlay",
              "size": 10,
              "solidity": 0.2
             }
            },
            "type": "barpolar"
           }
          ],
          "carpet": [
           {
            "aaxis": {
             "endlinecolor": "rgb(36,36,36)",
             "gridcolor": "white",
             "linecolor": "white",
             "minorgridcolor": "white",
             "startlinecolor": "rgb(36,36,36)"
            },
            "baxis": {
             "endlinecolor": "rgb(36,36,36)",
             "gridcolor": "white",
             "linecolor": "white",
             "minorgridcolor": "white",
             "startlinecolor": "rgb(36,36,36)"
            },
            "type": "carpet"
           }
          ],
          "choropleth": [
           {
            "colorbar": {
             "outlinewidth": 1,
             "tickcolor": "rgb(36,36,36)",
             "ticks": "outside"
            },
            "type": "choropleth"
           }
          ],
          "contour": [
           {
            "colorbar": {
             "outlinewidth": 1,
             "tickcolor": "rgb(36,36,36)",
             "ticks": "outside"
            },
            "colorscale": [
             [
              0,
              "#440154"
             ],
             [
              0.1111111111111111,
              "#482878"
             ],
             [
              0.2222222222222222,
              "#3e4989"
             ],
             [
              0.3333333333333333,
              "#31688e"
             ],
             [
              0.4444444444444444,
              "#26828e"
             ],
             [
              0.5555555555555556,
              "#1f9e89"
             ],
             [
              0.6666666666666666,
              "#35b779"
             ],
             [
              0.7777777777777778,
              "#6ece58"
             ],
             [
              0.8888888888888888,
              "#b5de2b"
             ],
             [
              1,
              "#fde725"
             ]
            ],
            "type": "contour"
           }
          ],
          "contourcarpet": [
           {
            "colorbar": {
             "outlinewidth": 1,
             "tickcolor": "rgb(36,36,36)",
             "ticks": "outside"
            },
            "type": "contourcarpet"
           }
          ],
          "heatmap": [
           {
            "colorbar": {
             "outlinewidth": 1,
             "tickcolor": "rgb(36,36,36)",
             "ticks": "outside"
            },
            "colorscale": [
             [
              0,
              "#440154"
             ],
             [
              0.1111111111111111,
              "#482878"
             ],
             [
              0.2222222222222222,
              "#3e4989"
             ],
             [
              0.3333333333333333,
              "#31688e"
             ],
             [
              0.4444444444444444,
              "#26828e"
             ],
             [
              0.5555555555555556,
              "#1f9e89"
             ],
             [
              0.6666666666666666,
              "#35b779"
             ],
             [
              0.7777777777777778,
              "#6ece58"
             ],
             [
              0.8888888888888888,
              "#b5de2b"
             ],
             [
              1,
              "#fde725"
             ]
            ],
            "type": "heatmap"
           }
          ],
          "heatmapgl": [
           {
            "colorbar": {
             "outlinewidth": 1,
             "tickcolor": "rgb(36,36,36)",
             "ticks": "outside"
            },
            "colorscale": [
             [
              0,
              "#440154"
             ],
             [
              0.1111111111111111,
              "#482878"
             ],
             [
              0.2222222222222222,
              "#3e4989"
             ],
             [
              0.3333333333333333,
              "#31688e"
             ],
             [
              0.4444444444444444,
              "#26828e"
             ],
             [
              0.5555555555555556,
              "#1f9e89"
             ],
             [
              0.6666666666666666,
              "#35b779"
             ],
             [
              0.7777777777777778,
              "#6ece58"
             ],
             [
              0.8888888888888888,
              "#b5de2b"
             ],
             [
              1,
              "#fde725"
             ]
            ],
            "type": "heatmapgl"
           }
          ],
          "histogram": [
           {
            "marker": {
             "line": {
              "color": "white",
              "width": 0.6
             }
            },
            "type": "histogram"
           }
          ],
          "histogram2d": [
           {
            "colorbar": {
             "outlinewidth": 1,
             "tickcolor": "rgb(36,36,36)",
             "ticks": "outside"
            },
            "colorscale": [
             [
              0,
              "#440154"
             ],
             [
              0.1111111111111111,
              "#482878"
             ],
             [
              0.2222222222222222,
              "#3e4989"
             ],
             [
              0.3333333333333333,
              "#31688e"
             ],
             [
              0.4444444444444444,
              "#26828e"
             ],
             [
              0.5555555555555556,
              "#1f9e89"
             ],
             [
              0.6666666666666666,
              "#35b779"
             ],
             [
              0.7777777777777778,
              "#6ece58"
             ],
             [
              0.8888888888888888,
              "#b5de2b"
             ],
             [
              1,
              "#fde725"
             ]
            ],
            "type": "histogram2d"
           }
          ],
          "histogram2dcontour": [
           {
            "colorbar": {
             "outlinewidth": 1,
             "tickcolor": "rgb(36,36,36)",
             "ticks": "outside"
            },
            "colorscale": [
             [
              0,
              "#440154"
             ],
             [
              0.1111111111111111,
              "#482878"
             ],
             [
              0.2222222222222222,
              "#3e4989"
             ],
             [
              0.3333333333333333,
              "#31688e"
             ],
             [
              0.4444444444444444,
              "#26828e"
             ],
             [
              0.5555555555555556,
              "#1f9e89"
             ],
             [
              0.6666666666666666,
              "#35b779"
             ],
             [
              0.7777777777777778,
              "#6ece58"
             ],
             [
              0.8888888888888888,
              "#b5de2b"
             ],
             [
              1,
              "#fde725"
             ]
            ],
            "type": "histogram2dcontour"
           }
          ],
          "mesh3d": [
           {
            "colorbar": {
             "outlinewidth": 1,
             "tickcolor": "rgb(36,36,36)",
             "ticks": "outside"
            },
            "type": "mesh3d"
           }
          ],
          "parcoords": [
           {
            "line": {
             "colorbar": {
              "outlinewidth": 1,
              "tickcolor": "rgb(36,36,36)",
              "ticks": "outside"
             }
            },
            "type": "parcoords"
           }
          ],
          "pie": [
           {
            "automargin": true,
            "type": "pie"
           }
          ],
          "scatter": [
           {
            "fillpattern": {
             "fillmode": "overlay",
             "size": 10,
             "solidity": 0.2
            },
            "type": "scatter"
           }
          ],
          "scatter3d": [
           {
            "line": {
             "colorbar": {
              "outlinewidth": 1,
              "tickcolor": "rgb(36,36,36)",
              "ticks": "outside"
             }
            },
            "marker": {
             "colorbar": {
              "outlinewidth": 1,
              "tickcolor": "rgb(36,36,36)",
              "ticks": "outside"
             }
            },
            "type": "scatter3d"
           }
          ],
          "scattercarpet": [
           {
            "marker": {
             "colorbar": {
              "outlinewidth": 1,
              "tickcolor": "rgb(36,36,36)",
              "ticks": "outside"
             }
            },
            "type": "scattercarpet"
           }
          ],
          "scattergeo": [
           {
            "marker": {
             "colorbar": {
              "outlinewidth": 1,
              "tickcolor": "rgb(36,36,36)",
              "ticks": "outside"
             }
            },
            "type": "scattergeo"
           }
          ],
          "scattergl": [
           {
            "marker": {
             "colorbar": {
              "outlinewidth": 1,
              "tickcolor": "rgb(36,36,36)",
              "ticks": "outside"
             }
            },
            "type": "scattergl"
           }
          ],
          "scattermapbox": [
           {
            "marker": {
             "colorbar": {
              "outlinewidth": 1,
              "tickcolor": "rgb(36,36,36)",
              "ticks": "outside"
             }
            },
            "type": "scattermapbox"
           }
          ],
          "scatterpolar": [
           {
            "marker": {
             "colorbar": {
              "outlinewidth": 1,
              "tickcolor": "rgb(36,36,36)",
              "ticks": "outside"
             }
            },
            "type": "scatterpolar"
           }
          ],
          "scatterpolargl": [
           {
            "marker": {
             "colorbar": {
              "outlinewidth": 1,
              "tickcolor": "rgb(36,36,36)",
              "ticks": "outside"
             }
            },
            "type": "scatterpolargl"
           }
          ],
          "scatterternary": [
           {
            "marker": {
             "colorbar": {
              "outlinewidth": 1,
              "tickcolor": "rgb(36,36,36)",
              "ticks": "outside"
             }
            },
            "type": "scatterternary"
           }
          ],
          "surface": [
           {
            "colorbar": {
             "outlinewidth": 1,
             "tickcolor": "rgb(36,36,36)",
             "ticks": "outside"
            },
            "colorscale": [
             [
              0,
              "#440154"
             ],
             [
              0.1111111111111111,
              "#482878"
             ],
             [
              0.2222222222222222,
              "#3e4989"
             ],
             [
              0.3333333333333333,
              "#31688e"
             ],
             [
              0.4444444444444444,
              "#26828e"
             ],
             [
              0.5555555555555556,
              "#1f9e89"
             ],
             [
              0.6666666666666666,
              "#35b779"
             ],
             [
              0.7777777777777778,
              "#6ece58"
             ],
             [
              0.8888888888888888,
              "#b5de2b"
             ],
             [
              1,
              "#fde725"
             ]
            ],
            "type": "surface"
           }
          ],
          "table": [
           {
            "cells": {
             "fill": {
              "color": "rgb(237,237,237)"
             },
             "line": {
              "color": "white"
             }
            },
            "header": {
             "fill": {
              "color": "rgb(217,217,217)"
             },
             "line": {
              "color": "white"
             }
            },
            "type": "table"
           }
          ]
         },
         "layout": {
          "annotationdefaults": {
           "arrowhead": 0,
           "arrowwidth": 1
          },
          "autotypenumbers": "strict",
          "coloraxis": {
           "colorbar": {
            "outlinewidth": 1,
            "tickcolor": "rgb(36,36,36)",
            "ticks": "outside"
           }
          },
          "colorscale": {
           "diverging": [
            [
             0,
             "rgb(103,0,31)"
            ],
            [
             0.1,
             "rgb(178,24,43)"
            ],
            [
             0.2,
             "rgb(214,96,77)"
            ],
            [
             0.3,
             "rgb(244,165,130)"
            ],
            [
             0.4,
             "rgb(253,219,199)"
            ],
            [
             0.5,
             "rgb(247,247,247)"
            ],
            [
             0.6,
             "rgb(209,229,240)"
            ],
            [
             0.7,
             "rgb(146,197,222)"
            ],
            [
             0.8,
             "rgb(67,147,195)"
            ],
            [
             0.9,
             "rgb(33,102,172)"
            ],
            [
             1,
             "rgb(5,48,97)"
            ]
           ],
           "sequential": [
            [
             0,
             "#440154"
            ],
            [
             0.1111111111111111,
             "#482878"
            ],
            [
             0.2222222222222222,
             "#3e4989"
            ],
            [
             0.3333333333333333,
             "#31688e"
            ],
            [
             0.4444444444444444,
             "#26828e"
            ],
            [
             0.5555555555555556,
             "#1f9e89"
            ],
            [
             0.6666666666666666,
             "#35b779"
            ],
            [
             0.7777777777777778,
             "#6ece58"
            ],
            [
             0.8888888888888888,
             "#b5de2b"
            ],
            [
             1,
             "#fde725"
            ]
           ],
           "sequentialminus": [
            [
             0,
             "#440154"
            ],
            [
             0.1111111111111111,
             "#482878"
            ],
            [
             0.2222222222222222,
             "#3e4989"
            ],
            [
             0.3333333333333333,
             "#31688e"
            ],
            [
             0.4444444444444444,
             "#26828e"
            ],
            [
             0.5555555555555556,
             "#1f9e89"
            ],
            [
             0.6666666666666666,
             "#35b779"
            ],
            [
             0.7777777777777778,
             "#6ece58"
            ],
            [
             0.8888888888888888,
             "#b5de2b"
            ],
            [
             1,
             "#fde725"
            ]
           ]
          },
          "colorway": [
           "#1F77B4",
           "#FF7F0E",
           "#2CA02C",
           "#D62728",
           "#9467BD",
           "#8C564B",
           "#E377C2",
           "#7F7F7F",
           "#BCBD22",
           "#17BECF"
          ],
          "font": {
           "color": "rgb(36,36,36)"
          },
          "geo": {
           "bgcolor": "white",
           "lakecolor": "white",
           "landcolor": "white",
           "showlakes": true,
           "showland": true,
           "subunitcolor": "white"
          },
          "hoverlabel": {
           "align": "left"
          },
          "hovermode": "closest",
          "mapbox": {
           "style": "light"
          },
          "paper_bgcolor": "white",
          "plot_bgcolor": "white",
          "polar": {
           "angularaxis": {
            "gridcolor": "rgb(232,232,232)",
            "linecolor": "rgb(36,36,36)",
            "showgrid": false,
            "showline": true,
            "ticks": "outside"
           },
           "bgcolor": "white",
           "radialaxis": {
            "gridcolor": "rgb(232,232,232)",
            "linecolor": "rgb(36,36,36)",
            "showgrid": false,
            "showline": true,
            "ticks": "outside"
           }
          },
          "scene": {
           "xaxis": {
            "backgroundcolor": "white",
            "gridcolor": "rgb(232,232,232)",
            "gridwidth": 2,
            "linecolor": "rgb(36,36,36)",
            "showbackground": true,
            "showgrid": false,
            "showline": true,
            "ticks": "outside",
            "zeroline": false,
            "zerolinecolor": "rgb(36,36,36)"
           },
           "yaxis": {
            "backgroundcolor": "white",
            "gridcolor": "rgb(232,232,232)",
            "gridwidth": 2,
            "linecolor": "rgb(36,36,36)",
            "showbackground": true,
            "showgrid": false,
            "showline": true,
            "ticks": "outside",
            "zeroline": false,
            "zerolinecolor": "rgb(36,36,36)"
           },
           "zaxis": {
            "backgroundcolor": "white",
            "gridcolor": "rgb(232,232,232)",
            "gridwidth": 2,
            "linecolor": "rgb(36,36,36)",
            "showbackground": true,
            "showgrid": false,
            "showline": true,
            "ticks": "outside",
            "zeroline": false,
            "zerolinecolor": "rgb(36,36,36)"
           }
          },
          "shapedefaults": {
           "fillcolor": "black",
           "line": {
            "width": 0
           },
           "opacity": 0.3
          },
          "ternary": {
           "aaxis": {
            "gridcolor": "rgb(232,232,232)",
            "linecolor": "rgb(36,36,36)",
            "showgrid": false,
            "showline": true,
            "ticks": "outside"
           },
           "baxis": {
            "gridcolor": "rgb(232,232,232)",
            "linecolor": "rgb(36,36,36)",
            "showgrid": false,
            "showline": true,
            "ticks": "outside"
           },
           "bgcolor": "white",
           "caxis": {
            "gridcolor": "rgb(232,232,232)",
            "linecolor": "rgb(36,36,36)",
            "showgrid": false,
            "showline": true,
            "ticks": "outside"
           }
          },
          "title": {
           "x": 0.05
          },
          "xaxis": {
           "automargin": true,
           "gridcolor": "rgb(232,232,232)",
           "linecolor": "rgb(36,36,36)",
           "showgrid": false,
           "showline": true,
           "ticks": "outside",
           "title": {
            "standoff": 15
           },
           "zeroline": false,
           "zerolinecolor": "rgb(36,36,36)"
          },
          "yaxis": {
           "automargin": true,
           "gridcolor": "rgb(232,232,232)",
           "linecolor": "rgb(36,36,36)",
           "showgrid": false,
           "showline": true,
           "ticks": "outside",
           "title": {
            "standoff": 15
           },
           "zeroline": false,
           "zerolinecolor": "rgb(36,36,36)"
          }
         }
        },
        "title": {
         "font": {
          "color": "Black",
          "size": 22
         },
         "text": "<b>Intertopic Distance Map</b>",
         "x": 0.5,
         "xanchor": "center",
         "y": 0.95,
         "yanchor": "top"
        },
        "width": 650,
        "xaxis": {
         "anchor": "y",
         "domain": [
          0,
          1
         ],
         "range": [
          -6.867585182189941,
          16.787433004379274
         ],
         "title": {
          "text": ""
         },
         "type": "linear",
         "visible": false
        },
        "yaxis": {
         "anchor": "x",
         "domain": [
          0,
          1
         ],
         "range": [
          -17.593741178512573,
          9.653701066970825
         ],
         "title": {
          "text": ""
         },
         "type": "linear",
         "visible": false
        }
       }
      },
      "image/png": "[encoded data removed]",
      "text/html": [
       "<div>                            <div id=\"9eb6be92-176a-4fb3-9e99-5a06c1bcf500\" class=\"plotly-graph-div\" style=\"height:650px; width:650px;\"></div>            <script type=\"text/javascript\">                require([\"plotly\"], function(Plotly) {                    window.PLOTLYENV=window.PLOTLYENV || {};                                    if (document.getElementById(\"9eb6be92-176a-4fb3-9e99-5a06c1bcf500\")) {                    Plotly.newPlot(                        \"9eb6be92-176a-4fb3-9e99-5a06c1bcf500\",                        [{\"customdata\":[[0,\"ineleg\\u00edvel | lula | bolsonaro | pode | veja\",13353],[1,\"brasil | brazil | brazilnewsinforma | informa | news\",3174],[2,\"whatsapp | canal | resolver\\u00e1 | abrir | conseguir\",3075],[3,\"israel | hamas | gaza | palestina | terrabrasilnoticias\",2060],[4,\"terrabrasilnoticias | entenda | veja | diz | stf\",1967],[5,\"portalcidadenews | portal | rond\\u00f4nia | rep\\u00f3rter | cear\\u00e1\",1785],[6,\"deus | senhor | jesus | cristo | disse\",1748],[7,\"youtube | 180 | ligue | consulte | canal\",1379],[8,\"brasil | bolsonaro | entenderam | lula | cnn\",956],[9,\"instagram | siga | clique | mossor\\u00f3 | facebook\",896],[10,\"revistaonlinenews | fazer | pode | emagrecer | limpar\",678],[11,\"v\\u00eddeo | rio | partilhe | grande | oantagonismo\",655],[12,\"v\\u00eddeo | terrabrasilnoticias | veja | hamas | fortes\",651],[13,\"pol\\u00edcia | civil | militar | federal | prende\",500],[14,\"terrabrasilnoticias | lula | governo | diz | entenda\",375]],\"hovertemplate\":\"\\u003cb\\u003eTopic %{customdata[0]}\\u003c\\u002fb\\u003e\\u003cbr\\u003e%{customdata[1]}\\u003cbr\\u003eSize: %{customdata[2]}\",\"legendgroup\":\"\",\"marker\":{\"color\":\"#B0BEC5\",\"size\":[13353,3174,3075,2060,1967,1785,1748,1379,956,896,678,655,651,500,375],\"sizemode\":\"area\",\"sizeref\":8.345625,\"symbol\":\"circle\",\"line\":{\"color\":\"DarkSlateGrey\",\"width\":2}},\"mode\":\"markers\",\"name\":\"\",\"orientation\":\"v\",\"showlegend\":false,\"x\":[6.7329912185668945,6.7708001136779785,7.873316764831543,6.243895053863525,-5.557159900665283,7.432164192199707,6.435830116271973,14.318829536437988,6.8664350509643555,14.59776782989502,7.683706760406494,14.114361763000488,-5.6639084815979,7.211212158203125,-5.971813201904297],\"xaxis\":\"x\",\"y\":[-2.0442209243774414,8.298853874206543,-1.6175222396850586,-2.4817187786102295,-5.570136547088623,-1.9811006784439087,-2.2184743881225586,-15.020050048828125,8.394522666931152,-15.298905372619629,-2.2316157817840576,-14.815530776977539,-5.676802158355713,-1.614806056022644,-5.986027240753174],\"yaxis\":\"y\",\"type\":\"scatter\"}],                        {\"template\":{\"data\":{\"barpolar\":[{\"marker\":{\"line\":{\"color\":\"white\",\"width\":0.5},\"pattern\":{\"fillmode\":\"overlay\",\"size\":10,\"solidity\":0.2}},\"type\":\"barpolar\"}],\"bar\":[{\"error_x\":{\"color\":\"rgb(36,36,36)\"},\"error_y\":{\"color\":\"rgb(36,36,36)\"},\"marker\":{\"line\":{\"color\":\"white\",\"width\":0.5},\"pattern\":{\"fillmode\":\"overlay\",\"size\":10,\"solidity\":0.2}},\"type\":\"bar\"}],\"carpet\":[{\"aaxis\":{\"endlinecolor\":\"rgb(36,36,36)\",\"gridcolor\":\"white\",\"linecolor\":\"white\",\"minorgridcolor\":\"white\",\"startlinecolor\":\"rgb(36,36,36)\"},\"baxis\":{\"endlinecolor\":\"rgb(36,36,36)\",\"gridcolor\":\"white\",\"linecolor\":\"white\",\"minorgridcolor\":\"white\",\"startlinecolor\":\"rgb(36,36,36)\"},\"type\":\"carpet\"}],\"choropleth\":[{\"colorbar\":{\"outlinewidth\":1,\"tickcolor\":\"rgb(36,36,36)\",\"ticks\":\"outside\"},\"type\":\"choropleth\"}],\"contourcarpet\":[{\"colorbar\":{\"outlinewidth\":1,\"tickcolor\":\"rgb(36,36,36)\",\"ticks\":\"outside\"},\"type\":\"contourcarpet\"}],\"contour\":[{\"colorbar\":{\"outlinewidth\":1,\"tickcolor\":\"rgb(36,36,36)\",\"ticks\":\"outside\"},\"colorscale\":[[0.0,\"#440154\"],[0.1111111111111111,\"#482878\"],[0.2222222222222222,\"#3e4989\"],[0.3333333333333333,\"#31688e\"],[0.4444444444444444,\"#26828e\"],[0.5555555555555556,\"#1f9e89\"],[0.6666666666666666,\"#35b779\"],[0.7777777777777778,\"#6ece58\"],[0.8888888888888888,\"#b5de2b\"],[1.0,\"#fde725\"]],\"type\":\"contour\"}],\"heatmapgl\":[{\"colorbar\":{\"outlinewidth\":1,\"tickcolor\":\"rgb(36,36,36)\",\"ticks\":\"outside\"},\"colorscale\":[[0.0,\"#440154\"],[0.1111111111111111,\"#482878\"],[0.2222222222222222,\"#3e4989\"],[0.3333333333333333,\"#31688e\"],[0.4444444444444444,\"#26828e\"],[0.5555555555555556,\"#1f9e89\"],[0.6666666666666666,\"#35b779\"],[0.7777777777777778,\"#6ece58\"],[0.8888888888888888,\"#b5de2b\"],[1.0,\"#fde725\"]],\"type\":\"heatmapgl\"}],\"heatmap\":[{\"colorbar\":{\"outlinewidth\":1,\"tickcolor\":\"rgb(36,36,36)\",\"ticks\":\"outside\"},\"colorscale\":[[0.0,\"#440154\"],[0.1111111111111111,\"#482878\"],[0.2222222222222222,\"#3e4989\"],[0.3333333333333333,\"#31688e\"],[0.4444444444444444,\"#26828e\"],[0.5555555555555556,\"#1f9e89\"],[0.6666666666666666,\"#35b779\"],[0.7777777777777778,\"#6ece58\"],[0.8888888888888888,\"#b5de2b\"],[1.0,\"#fde725\"]],\"type\":\"heatmap\"}],\"histogram2dcontour\":[{\"colorbar\":{\"outlinewidth\":1,\"tickcolor\":\"rgb(36,36,36)\",\"ticks\":\"outside\"},\"colorscale\":[[0.0,\"#440154\"],[0.1111111111111111,\"#482878\"],[0.2222222222222222,\"#3e4989\"],[0.3333333333333333,\"#31688e\"],[0.4444444444444444,\"#26828e\"],[0.5555555555555556,\"#1f9e89\"],[0.6666666666666666,\"#35b779\"],[0.7777777777777778,\"#6ece58\"],[0.8888888888888888,\"#b5de2b\"],[1.0,\"#fde725\"]],\"type\":\"histogram2dcontour\"}],\"histogram2d\":[{\"colorbar\":{\"outlinewidth\":1,\"tickcolor\":\"rgb(36,36,36)\",\"ticks\":\"outside\"},\"colorscale\":[[0.0,\"#440154\"],[0.1111111111111111,\"#482878\"],[0.2222222222222222,\"#3e4989\"],[0.3333333333333333,\"#31688e\"],[0.4444444444444444,\"#26828e\"],[0.5555555555555556,\"#1f9e89\"],[0.6666666666666666,\"#35b779\"],[0.7777777777777778,\"#6ece58\"],[0.8888888888888888,\"#b5de2b\"],[1.0,\"#fde725\"]],\"type\":\"histogram2d\"}],\"histogram\":[{\"marker\":{\"line\":{\"color\":\"white\",\"width\":0.6}},\"type\":\"histogram\"}],\"mesh3d\":[{\"colorbar\":{\"outlinewidth\":1,\"tickcolor\":\"rgb(36,36,36)\",\"ticks\":\"outside\"},\"type\":\"mesh3d\"}],\"parcoords\":[{\"line\":{\"colorbar\":{\"outlinewidth\":1,\"tickcolor\":\"rgb(36,36,36)\",\"ticks\":\"outside\"}},\"type\":\"parcoords\"}],\"pie\":[{\"automargin\":true,\"type\":\"pie\"}],\"scatter3d\":[{\"line\":{\"colorbar\":{\"outlinewidth\":1,\"tickcolor\":\"rgb(36,36,36)\",\"ticks\":\"outside\"}},\"marker\":{\"colorbar\":{\"outlinewidth\":1,\"tickcolor\":\"rgb(36,36,36)\",\"ticks\":\"outside\"}},\"type\":\"scatter3d\"}],\"scattercarpet\":[{\"marker\":{\"colorbar\":{\"outlinewidth\":1,\"tickcolor\":\"rgb(36,36,36)\",\"ticks\":\"outside\"}},\"type\":\"scattercarpet\"}],\"scattergeo\":[{\"marker\":{\"colorbar\":{\"outlinewidth\":1,\"tickcolor\":\"rgb(36,36,36)\",\"ticks\":\"outside\"}},\"type\":\"scattergeo\"}],\"scattergl\":[{\"marker\":{\"colorbar\":{\"outlinewidth\":1,\"tickcolor\":\"rgb(36,36,36)\",\"ticks\":\"outside\"}},\"type\":\"scattergl\"}],\"scattermapbox\":[{\"marker\":{\"colorbar\":{\"outlinewidth\":1,\"tickcolor\":\"rgb(36,36,36)\",\"ticks\":\"outside\"}},\"type\":\"scattermapbox\"}],\"scatterpolargl\":[{\"marker\":{\"colorbar\":{\"outlinewidth\":1,\"tickcolor\":\"rgb(36,36,36)\",\"ticks\":\"outside\"}},\"type\":\"scatterpolargl\"}],\"scatterpolar\":[{\"marker\":{\"colorbar\":{\"outlinewidth\":1,\"tickcolor\":\"rgb(36,36,36)\",\"ticks\":\"outside\"}},\"type\":\"scatterpolar\"}],\"scatter\":[{\"fillpattern\":{\"fillmode\":\"overlay\",\"size\":10,\"solidity\":0.2},\"type\":\"scatter\"}],\"scatterternary\":[{\"marker\":{\"colorbar\":{\"outlinewidth\":1,\"tickcolor\":\"rgb(36,36,36)\",\"ticks\":\"outside\"}},\"type\":\"scatterternary\"}],\"surface\":[{\"colorbar\":{\"outlinewidth\":1,\"tickcolor\":\"rgb(36,36,36)\",\"ticks\":\"outside\"},\"colorscale\":[[0.0,\"#440154\"],[0.1111111111111111,\"#482878\"],[0.2222222222222222,\"#3e4989\"],[0.3333333333333333,\"#31688e\"],[0.4444444444444444,\"#26828e\"],[0.5555555555555556,\"#1f9e89\"],[0.6666666666666666,\"#35b779\"],[0.7777777777777778,\"#6ece58\"],[0.8888888888888888,\"#b5de2b\"],[1.0,\"#fde725\"]],\"type\":\"surface\"}],\"table\":[{\"cells\":{\"fill\":{\"color\":\"rgb(237,237,237)\"},\"line\":{\"color\":\"white\"}},\"header\":{\"fill\":{\"color\":\"rgb(217,217,217)\"},\"line\":{\"color\":\"white\"}},\"type\":\"table\"}]},\"layout\":{\"annotationdefaults\":{\"arrowhead\":0,\"arrowwidth\":1},\"autotypenumbers\":\"strict\",\"coloraxis\":{\"colorbar\":{\"outlinewidth\":1,\"tickcolor\":\"rgb(36,36,36)\",\"ticks\":\"outside\"}},\"colorscale\":{\"diverging\":[[0.0,\"rgb(103,0,31)\"],[0.1,\"rgb(178,24,43)\"],[0.2,\"rgb(214,96,77)\"],[0.3,\"rgb(244,165,130)\"],[0.4,\"rgb(253,219,199)\"],[0.5,\"rgb(247,247,247)\"],[0.6,\"rgb(209,229,240)\"],[0.7,\"rgb(146,197,222)\"],[0.8,\"rgb(67,147,195)\"],[0.9,\"rgb(33,102,172)\"],[1.0,\"rgb(5,48,97)\"]],\"sequential\":[[0.0,\"#440154\"],[0.1111111111111111,\"#482878\"],[0.2222222222222222,\"#3e4989\"],[0.3333333333333333,\"#31688e\"],[0.4444444444444444,\"#26828e\"],[0.5555555555555556,\"#1f9e89\"],[0.6666666666666666,\"#35b779\"],[0.7777777777777778,\"#6ece58\"],[0.8888888888888888,\"#b5de2b\"],[1.0,\"#fde725\"]],\"sequentialminus\":[[0.0,\"#440154\"],[0.1111111111111111,\"#482878\"],[0.2222222222222222,\"#3e4989\"],[0.3333333333333333,\"#31688e\"],[0.4444444444444444,\"#26828e\"],[0.5555555555555556,\"#1f9e89\"],[0.6666666666666666,\"#35b779\"],[0.7777777777777778,\"#6ece58\"],[0.8888888888888888,\"#b5de2b\"],[1.0,\"#fde725\"]]},\"colorway\":[\"#1F77B4\",\"#FF7F0E\",\"#2CA02C\",\"#D62728\",\"#9467BD\",\"#8C564B\",\"#E377C2\",\"#7F7F7F\",\"#BCBD22\",\"#17BECF\"],\"font\":{\"color\":\"rgb(36,36,36)\"},\"geo\":{\"bgcolor\":\"white\",\"lakecolor\":\"white\",\"landcolor\":\"white\",\"showlakes\":true,\"showland\":true,\"subunitcolor\":\"white\"},\"hoverlabel\":{\"align\":\"left\"},\"hovermode\":\"closest\",\"mapbox\":{\"style\":\"light\"},\"paper_bgcolor\":\"white\",\"plot_bgcolor\":\"white\",\"polar\":{\"angularaxis\":{\"gridcolor\":\"rgb(232,232,232)\",\"linecolor\":\"rgb(36,36,36)\",\"showgrid\":false,\"showline\":true,\"ticks\":\"outside\"},\"bgcolor\":\"white\",\"radialaxis\":{\"gridcolor\":\"rgb(232,232,232)\",\"linecolor\":\"rgb(36,36,36)\",\"showgrid\":false,\"showline\":true,\"ticks\":\"outside\"}},\"scene\":{\"xaxis\":{\"backgroundcolor\":\"white\",\"gridcolor\":\"rgb(232,232,232)\",\"gridwidth\":2,\"linecolor\":\"rgb(36,36,36)\",\"showbackground\":true,\"showgrid\":false,\"showline\":true,\"ticks\":\"outside\",\"zeroline\":false,\"zerolinecolor\":\"rgb(36,36,36)\"},\"yaxis\":{\"backgroundcolor\":\"white\",\"gridcolor\":\"rgb(232,232,232)\",\"gridwidth\":2,\"linecolor\":\"rgb(36,36,36)\",\"showbackground\":true,\"showgrid\":false,\"showline\":true,\"ticks\":\"outside\",\"zeroline\":false,\"zerolinecolor\":\"rgb(36,36,36)\"},\"zaxis\":{\"backgroundcolor\":\"white\",\"gridcolor\":\"rgb(232,232,232)\",\"gridwidth\":2,\"linecolor\":\"rgb(36,36,36)\",\"showbackground\":true,\"showgrid\":false,\"showline\":true,\"ticks\":\"outside\",\"zeroline\":false,\"zerolinecolor\":\"rgb(36,36,36)\"}},\"shapedefaults\":{\"fillcolor\":\"black\",\"line\":{\"width\":0},\"opacity\":0.3},\"ternary\":{\"aaxis\":{\"gridcolor\":\"rgb(232,232,232)\",\"linecolor\":\"rgb(36,36,36)\",\"showgrid\":false,\"showline\":true,\"ticks\":\"outside\"},\"baxis\":{\"gridcolor\":\"rgb(232,232,232)\",\"linecolor\":\"rgb(36,36,36)\",\"showgrid\":false,\"showline\":true,\"ticks\":\"outside\"},\"bgcolor\":\"white\",\"caxis\":{\"gridcolor\":\"rgb(232,232,232)\",\"linecolor\":\"rgb(36,36,36)\",\"showgrid\":false,\"showline\":true,\"ticks\":\"outside\"}},\"title\":{\"x\":0.05},\"xaxis\":{\"automargin\":true,\"gridcolor\":\"rgb(232,232,232)\",\"linecolor\":\"rgb(36,36,36)\",\"showgrid\":false,\"showline\":true,\"ticks\":\"outside\",\"title\":{\"standoff\":15},\"zeroline\":false,\"zerolinecolor\":\"rgb(36,36,36)\"},\"yaxis\":{\"automargin\":true,\"gridcolor\":\"rgb(232,232,232)\",\"linecolor\":\"rgb(36,36,36)\",\"showgrid\":false,\"showline\":true,\"ticks\":\"outside\",\"title\":{\"standoff\":15},\"zeroline\":false,\"zerolinecolor\":\"rgb(36,36,36)\"}}},\"xaxis\":{\"anchor\":\"y\",\"domain\":[0.0,1.0],\"title\":{\"text\":\"\"},\"visible\":false,\"range\":[-6.867585182189941,16.787433004379274]},\"yaxis\":{\"anchor\":\"x\",\"domain\":[0.0,1.0],\"title\":{\"text\":\"\"},\"visible\":false,\"range\":[-17.593741178512573,9.653701066970825]},\"legend\":{\"tracegroupgap\":0,\"itemsizing\":\"constant\"},\"margin\":{\"t\":60},\"title\":{\"font\":{\"size\":22,\"color\":\"Black\"},\"text\":\"\\u003cb\\u003eIntertopic Distance Map\\u003c\\u002fb\\u003e\",\"y\":0.95,\"x\":0.5,\"xanchor\":\"center\",\"yanchor\":\"top\"},\"hoverlabel\":{\"font\":{\"size\":16,\"family\":\"Rockwell\"},\"bgcolor\":\"white\"},\"width\":650,\"height\":650,\"sliders\":[{\"active\":0,\"pad\":{\"t\":50},\"steps\":[{\"args\":[{\"marker.color\":[[\"red\",\"#B0BEC5\",\"#B0BEC5\",\"#B0BEC5\",\"#B0BEC5\",\"#B0BEC5\",\"#B0BEC5\",\"#B0BEC5\",\"#B0BEC5\",\"#B0BEC5\",\"#B0BEC5\",\"#B0BEC5\",\"#B0BEC5\",\"#B0BEC5\",\"#B0BEC5\"]]}],\"label\":\"Topic 0\",\"method\":\"update\"},{\"args\":[{\"marker.color\":[[\"#B0BEC5\",\"red\",\"#B0BEC5\",\"#B0BEC5\",\"#B0BEC5\",\"#B0BEC5\",\"#B0BEC5\",\"#B0BEC5\",\"#B0BEC5\",\"#B0BEC5\",\"#B0BEC5\",\"#B0BEC5\",\"#B0BEC5\",\"#B0BEC5\",\"#B0BEC5\"]]}],\"label\":\"Topic 1\",\"method\":\"update\"},{\"args\":[{\"marker.color\":[[\"#B0BEC5\",\"#B0BEC5\",\"red\",\"#B0BEC5\",\"#B0BEC5\",\"#B0BEC5\",\"#B0BEC5\",\"#B0BEC5\",\"#B0BEC5\",\"#B0BEC5\",\"#B0BEC5\",\"#B0BEC5\",\"#B0BEC5\",\"#B0BEC5\",\"#B0BEC5\"]]}],\"label\":\"Topic 2\",\"method\":\"update\"},{\"args\":[{\"marker.color\":[[\"#B0BEC5\",\"#B0BEC5\",\"#B0BEC5\",\"red\",\"#B0BEC5\",\"#B0BEC5\",\"#B0BEC5\",\"#B0BEC5\",\"#B0BEC5\",\"#B0BEC5\",\"#B0BEC5\",\"#B0BEC5\",\"#B0BEC5\",\"#B0BEC5\",\"#B0BEC5\"]]}],\"label\":\"Topic 3\",\"method\":\"update\"},{\"args\":[{\"marker.color\":[[\"#B0BEC5\",\"#B0BEC5\",\"#B0BEC5\",\"#B0BEC5\",\"red\",\"#B0BEC5\",\"#B0BEC5\",\"#B0BEC5\",\"#B0BEC5\",\"#B0BEC5\",\"#B0BEC5\",\"#B0BEC5\",\"#B0BEC5\",\"#B0BEC5\",\"#B0BEC5\"]]}],\"label\":\"Topic 4\",\"method\":\"update\"},{\"args\":[{\"marker.color\":[[\"#B0BEC5\",\"#B0BEC5\",\"#B0BEC5\",\"#B0BEC5\",\"#B0BEC5\",\"red\",\"#B0BEC5\",\"#B0BEC5\",\"#B0BEC5\",\"#B0BEC5\",\"#B0BEC5\",\"#B0BEC5\",\"#B0BEC5\",\"#B0BEC5\",\"#B0BEC5\"]]}],\"label\":\"Topic 5\",\"method\":\"update\"},{\"args\":[{\"marker.color\":[[\"#B0BEC5\",\"#B0BEC5\",\"#B0BEC5\",\"#B0BEC5\",\"#B0BEC5\",\"#B0BEC5\",\"red\",\"#B0BEC5\",\"#B0BEC5\",\"#B0BEC5\",\"#B0BEC5\",\"#B0BEC5\",\"#B0BEC5\",\"#B0BEC5\",\"#B0BEC5\"]]}],\"label\":\"Topic 6\",\"method\":\"update\"},{\"args\":[{\"marker.color\":[[\"#B0BEC5\",\"#B0BEC5\",\"#B0BEC5\",\"#B0BEC5\",\"#B0BEC5\",\"#B0BEC5\",\"#B0BEC5\",\"red\",\"#B0BEC5\",\"#B0BEC5\",\"#B0BEC5\",\"#B0BEC5\",\"#B0BEC5\",\"#B0BEC5\",\"#B0BEC5\"]]}],\"label\":\"Topic 7\",\"method\":\"update\"},{\"args\":[{\"marker.color\":[[\"#B0BEC5\",\"#B0BEC5\",\"#B0BEC5\",\"#B0BEC5\",\"#B0BEC5\",\"#B0BEC5\",\"#B0BEC5\",\"#B0BEC5\",\"red\",\"#B0BEC5\",\"#B0BEC5\",\"#B0BEC5\",\"#B0BEC5\",\"#B0BEC5\",\"#B0BEC5\"]]}],\"label\":\"Topic 8\",\"method\":\"update\"},{\"args\":[{\"marker.color\":[[\"#B0BEC5\",\"#B0BEC5\",\"#B0BEC5\",\"#B0BEC5\",\"#B0BEC5\",\"#B0BEC5\",\"#B0BEC5\",\"#B0BEC5\",\"#B0BEC5\",\"red\",\"#B0BEC5\",\"#B0BEC5\",\"#B0BEC5\",\"#B0BEC5\",\"#B0BEC5\"]]}],\"label\":\"Topic 9\",\"method\":\"update\"},{\"args\":[{\"marker.color\":[[\"#B0BEC5\",\"#B0BEC5\",\"#B0BEC5\",\"#B0BEC5\",\"#B0BEC5\",\"#B0BEC5\",\"#B0BEC5\",\"#B0BEC5\",\"#B0BEC5\",\"#B0BEC5\",\"red\",\"#B0BEC5\",\"#B0BEC5\",\"#B0BEC5\",\"#B0BEC5\"]]}],\"label\":\"Topic 10\",\"method\":\"update\"},{\"args\":[{\"marker.color\":[[\"#B0BEC5\",\"#B0BEC5\",\"#B0BEC5\",\"#B0BEC5\",\"#B0BEC5\",\"#B0BEC5\",\"#B0BEC5\",\"#B0BEC5\",\"#B0BEC5\",\"#B0BEC5\",\"#B0BEC5\",\"red\",\"#B0BEC5\",\"#B0BEC5\",\"#B0BEC5\"]]}],\"label\":\"Topic 11\",\"method\":\"update\"},{\"args\":[{\"marker.color\":[[\"#B0BEC5\",\"#B0BEC5\",\"#B0BEC5\",\"#B0BEC5\",\"#B0BEC5\",\"#B0BEC5\",\"#B0BEC5\",\"#B0BEC5\",\"#B0BEC5\",\"#B0BEC5\",\"#B0BEC5\",\"#B0BEC5\",\"red\",\"#B0BEC5\",\"#B0BEC5\"]]}],\"label\":\"Topic 12\",\"method\":\"update\"},{\"args\":[{\"marker.color\":[[\"#B0BEC5\",\"#B0BEC5\",\"#B0BEC5\",\"#B0BEC5\",\"#B0BEC5\",\"#B0BEC5\",\"#B0BEC5\",\"#B0BEC5\",\"#B0BEC5\",\"#B0BEC5\",\"#B0BEC5\",\"#B0BEC5\",\"#B0BEC5\",\"red\",\"#B0BEC5\"]]}],\"label\":\"Topic 13\",\"method\":\"update\"},{\"args\":[{\"marker.color\":[[\"#B0BEC5\",\"#B0BEC5\",\"#B0BEC5\",\"#B0BEC5\",\"#B0BEC5\",\"#B0BEC5\",\"#B0BEC5\",\"#B0BEC5\",\"#B0BEC5\",\"#B0BEC5\",\"#B0BEC5\",\"#B0BEC5\",\"#B0BEC5\",\"#B0BEC5\",\"red\"]]}],\"label\":\"Topic 14\",\"method\":\"update\"}]}],\"shapes\":[{\"line\":{\"color\":\"#CFD8DC\",\"width\":2},\"type\":\"line\",\"x0\":4.959923911094666,\"x1\":4.959923911094666,\"y0\":-17.593741178512573,\"y1\":9.653701066970825},{\"line\":{\"color\":\"#9E9E9E\",\"width\":2},\"type\":\"line\",\"x0\":-6.867585182189941,\"x1\":16.787433004379274,\"y0\":-3.970020055770874,\"y1\":-3.970020055770874}],\"annotations\":[{\"showarrow\":false,\"text\":\"D1\",\"x\":-6.867585182189941,\"y\":-3.970020055770874,\"yshift\":10},{\"showarrow\":false,\"text\":\"D2\",\"x\":4.959923911094666,\"xshift\":10,\"y\":9.653701066970825}]},                        {\"responsive\": true}                    ).then(function(){\n",
       "                            \n",
       "var gd = document.getElementById('9eb6be92-176a-4fb3-9e99-5a06c1bcf500');\n",
       "var x = new MutationObserver(function (mutations, observer) {{\n",
       "        var display = window.getComputedStyle(gd).display;\n",
       "        if (!display || display === 'none') {{\n",
       "            console.log([gd, 'removed!']);\n",
       "            Plotly.purge(gd);\n",
       "            observer.disconnect();\n",
       "        }}\n",
       "}});\n",
       "\n",
       "// Listen for the removal of the full notebook cells\n",
       "var notebookContainer = gd.closest('#notebook-container');\n",
       "if (notebookContainer) {{\n",
       "    x.observe(notebookContainer, {childList: true});\n",
       "}}\n",
       "\n",
       "// Listen for the clearing of the current output cell\n",
       "var outputEl = gd.closest('.output');\n",
       "if (outputEl) {{\n",
       "    x.observe(outputEl, {childList: true});\n",
       "}}\n",
       "\n",
       "                        })                };                });            </script>        </div>"
      ]
     },
     "metadata": {},
     "output_type": "display_data"
    }
   ],
   "source": [
    "topic_model.visualize_topics()"
   ]
  },
  {
   "cell_type": "code",
   "execution_count": null,
   "id": "7dd82e98-af1e-410e-8680-174533ec110d",
   "metadata": {},
   "outputs": [],
   "source": []
  }
 ],
 "metadata": {
  "kernelspec": {
   "display_name": "Python 3 (ipykernel)",
   "language": "python",
   "name": "python3"
  },
  "language_info": {
   "codemirror_mode": {
    "name": "ipython",
    "version": 3
   },
   "file_extension": ".py",
   "mimetype": "text/x-python",
   "name": "python",
   "nbconvert_exporter": "python",
   "pygments_lexer": "ipython3",
   "version": "3.11.7"
  }
 },
 "nbformat": 4,
 "nbformat_minor": 5
}
