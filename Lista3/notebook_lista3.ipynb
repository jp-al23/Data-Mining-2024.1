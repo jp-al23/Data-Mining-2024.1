{
 "cells": [
  {
   "cell_type": "code",
   "execution_count": 1,
   "id": "a5a94ae9-7463-41ed-808f-cbbf23bb88aa",
   "metadata": {},
   "outputs": [],
   "source": [
    "from bs4 import BeautifulSoup\n",
    "import requests\n",
    "import pandas as pd\n",
    "import time"
   ]
  },
  {
   "cell_type": "code",
   "execution_count": 5,
   "id": "44ed8527-bf7b-4548-a27d-1ecb1ba8b0d3",
   "metadata": {},
   "outputs": [],
   "source": [
    "url = 'https://www.cnnbrasil.com.br/ultimas-noticias/'\n",
    "dados = []\n",
    "for page in range(1,101):\n",
    "    nova_url = url + \"pagina/\" + str(page) + \"/\"\n",
    "    response = requests.get(nova_url)\n",
    "    response.encoding = response.apparent_encoding\n",
    "    soup = BeautifulSoup(response.text)\n",
    "    paineis = soup.find_all(\"li\", class_ = \"home__list__item\")\n",
    "    for painel in paineis:\n",
    "        link = painel.find('a', href=True)[\"href\"]\n",
    "        response2 = requests.get(link)\n",
    "        response2.encoding = response2.apparent_encoding\n",
    "        noticia = BeautifulSoup(response2.text)\n",
    "        # print(noticia.prettify())\n",
    "        titulo = noticia.find(\"h1\", class_ = \"post__title\").get_text().strip()\n",
    "        data = noticia.find(\"span\", class_ = \"post__data\").get_text().strip()\n",
    "        texto = \"\\n\".join(map(lambda x: x.get_text().strip(), noticia.find(\"div\", class_ = \"post__content\").find_all(\"p\")))\n",
    "        autor = noticia.find(\"span\", class_ = \"author__group\")\n",
    "        try:\n",
    "            autor = autor.find(\"span\").get_text().strip()\n",
    "        except:\n",
    "            autor = None\n",
    "        dados.append([data, titulo, link, autor, texto])\n",
    "\n",
    "\n"
   ]
  },
  {
   "cell_type": "code",
   "execution_count": 6,
   "id": "c0395cf2-f443-4403-abf0-79b3a0de0cba",
   "metadata": {},
   "outputs": [
    {
     "data": {
      "text/html": [
       "<div>\n",
       "<style scoped>\n",
       "    .dataframe tbody tr th:only-of-type {\n",
       "        vertical-align: middle;\n",
       "    }\n",
       "\n",
       "    .dataframe tbody tr th {\n",
       "        vertical-align: top;\n",
       "    }\n",
       "\n",
       "    .dataframe thead th {\n",
       "        text-align: right;\n",
       "    }\n",
       "</style>\n",
       "<table border=\"1\" class=\"dataframe\">\n",
       "  <thead>\n",
       "    <tr style=\"text-align: right;\">\n",
       "      <th></th>\n",
       "      <th>Data</th>\n",
       "      <th>Título</th>\n",
       "      <th>Link</th>\n",
       "      <th>Autor</th>\n",
       "      <th>Texto</th>\n",
       "    </tr>\n",
       "  </thead>\n",
       "  <tbody>\n",
       "    <tr>\n",
       "      <th>0</th>\n",
       "      <td>06/04/2024 às 14:03</td>\n",
       "      <td>Angelina Jolie acusa Brad Pitt de histórico ab...</td>\n",
       "      <td>https://www.cnnbrasil.com.br/entretenimento/an...</td>\n",
       "      <td>Alli Rosenbloom</td>\n",
       "      <td>A disputa legal entre Angelina Jolie e Brad Pi...</td>\n",
       "    </tr>\n",
       "    <tr>\n",
       "      <th>1</th>\n",
       "      <td>06/04/2024 às 13:57</td>\n",
       "      <td>Yasmin Castilho anuncia nascimento do primeiro...</td>\n",
       "      <td>https://www.cnnbrasil.com.br/entretenimento/ya...</td>\n",
       "      <td>Nicoly Bastos</td>\n",
       "      <td>A influenciadora Yasmin Castilho anunciou, nes...</td>\n",
       "    </tr>\n",
       "    <tr>\n",
       "      <th>2</th>\n",
       "      <td>06/04/2024 às 13:22</td>\n",
       "      <td>Dono do Porsche: Polícia Civil pede nova prisã...</td>\n",
       "      <td>https://www.cnnbrasil.com.br/nacional/dono-do-...</td>\n",
       "      <td>Marcos Guedes</td>\n",
       "      <td>A Polícia Civil de São Paulo protocolou, na se...</td>\n",
       "    </tr>\n",
       "    <tr>\n",
       "      <th>3</th>\n",
       "      <td>06/04/2024 às 13:11</td>\n",
       "      <td>Final do Mineiro marca 100º clássico entre Atl...</td>\n",
       "      <td>https://www.cnnbrasil.com.br/esportes/futebol/...</td>\n",
       "      <td>Leonardo Gimenez</td>\n",
       "      <td>O duelo entre Cruzeiro e Atlético-MG neste dom...</td>\n",
       "    </tr>\n",
       "    <tr>\n",
       "      <th>4</th>\n",
       "      <td>06/04/2024 às 12:49</td>\n",
       "      <td>Giovanna e Lucas comentam mudança em Matteus n...</td>\n",
       "      <td>https://www.cnnbrasil.com.br/entretenimento/bb...</td>\n",
       "      <td>Fernanda Pinotti</td>\n",
       "      <td>Giovanna e Lucas Henrique comentaram, após a f...</td>\n",
       "    </tr>\n",
       "  </tbody>\n",
       "</table>\n",
       "</div>"
      ],
      "text/plain": [
       "                  Data                                             Título  \\\n",
       "0  06/04/2024 às 14:03  Angelina Jolie acusa Brad Pitt de histórico ab...   \n",
       "1  06/04/2024 às 13:57  Yasmin Castilho anuncia nascimento do primeiro...   \n",
       "2  06/04/2024 às 13:22  Dono do Porsche: Polícia Civil pede nova prisã...   \n",
       "3  06/04/2024 às 13:11  Final do Mineiro marca 100º clássico entre Atl...   \n",
       "4  06/04/2024 às 12:49  Giovanna e Lucas comentam mudança em Matteus n...   \n",
       "\n",
       "                                                Link             Autor  \\\n",
       "0  https://www.cnnbrasil.com.br/entretenimento/an...   Alli Rosenbloom   \n",
       "1  https://www.cnnbrasil.com.br/entretenimento/ya...     Nicoly Bastos   \n",
       "2  https://www.cnnbrasil.com.br/nacional/dono-do-...     Marcos Guedes   \n",
       "3  https://www.cnnbrasil.com.br/esportes/futebol/...  Leonardo Gimenez   \n",
       "4  https://www.cnnbrasil.com.br/entretenimento/bb...  Fernanda Pinotti   \n",
       "\n",
       "                                               Texto  \n",
       "0  A disputa legal entre Angelina Jolie e Brad Pi...  \n",
       "1  A influenciadora Yasmin Castilho anunciou, nes...  \n",
       "2  A Polícia Civil de São Paulo protocolou, na se...  \n",
       "3  O duelo entre Cruzeiro e Atlético-MG neste dom...  \n",
       "4  Giovanna e Lucas Henrique comentaram, após a f...  "
      ]
     },
     "execution_count": 6,
     "metadata": {},
     "output_type": "execute_result"
    }
   ],
   "source": [
    "df = pd.DataFrame(dados, columns = [\"Data\", \"Título\", \"Link\", \"Autor\", \"Texto\"])\n",
    "df.head()\n"
   ]
  },
  {
   "cell_type": "code",
   "execution_count": 7,
   "id": "b92982ea-4002-4d7e-857d-2c9ff3093a60",
   "metadata": {},
   "outputs": [
    {
     "data": {
      "text/plain": [
       "(3000, 5)"
      ]
     },
     "execution_count": 7,
     "metadata": {},
     "output_type": "execute_result"
    }
   ],
   "source": [
    "df.shape"
   ]
  },
  {
   "cell_type": "code",
   "execution_count": 8,
   "id": "f240b529-564a-485a-a4cc-a5227a835ece",
   "metadata": {},
   "outputs": [],
   "source": [
    "df.to_csv(\"dados_coletados.csv\")"
   ]
  },
  {
   "cell_type": "code",
   "execution_count": null,
   "id": "193003c2-6803-49b6-9fe3-05a504fa4387",
   "metadata": {},
   "outputs": [],
   "source": []
  }
 ],
 "metadata": {
  "kernelspec": {
   "display_name": "Python 3 (ipykernel)",
   "language": "python",
   "name": "python3"
  },
  "language_info": {
   "codemirror_mode": {
    "name": "ipython",
    "version": 3
   },
   "file_extension": ".py",
   "mimetype": "text/x-python",
   "name": "python",
   "nbconvert_exporter": "python",
   "pygments_lexer": "ipython3",
   "version": "3.11.7"
  }
 },
 "nbformat": 4,
 "nbformat_minor": 5
}
